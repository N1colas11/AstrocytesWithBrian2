{
 "cells": [
  {
   "cell_type": "markdown",
   "metadata": {},
   "source": [
    "# Bifurcation Analysis with Julia\n",
    "\n"
   ]
  },
  {
   "cell_type": "markdown",
   "metadata": {},
   "source": [
    "References:\n",
    "* Nonlinear Dynamics and Chaos (2nd edition) *by Steven Strogatz*"
   ]
  },
  {
   "cell_type": "markdown",
   "metadata": {},
   "source": [
    "### Import all the important packages"
   ]
  },
  {
   "cell_type": "code",
   "execution_count": 1,
   "metadata": {},
   "outputs": [],
   "source": [
    "using Plots, Bifurcations\n",
    "using Parameters: @unpack\n",
    "using DiffEqBase: ODEProblem, init, solve!\n",
    "using Bifurcations: BifurcationProblem\n",
    "using Setfield: @lens\n",
    "using ParameterizedFunctions: @ode_def"
   ]
  },
  {
   "cell_type": "markdown",
   "metadata": {},
   "source": [
    "### Example 4.3.1"
   ]
  },
  {
   "cell_type": "code",
   "execution_count": 18,
   "metadata": {},
   "outputs": [
    {
     "data": {
      "text/plain": [
       "f (generic function with 1 method)"
      ]
     },
     "execution_count": 18,
     "metadata": {},
     "output_type": "execute_result"
    }
   ],
   "source": [
    "param = (\n",
    "    beta = 1.0\n",
    ")\n",
    "\n",
    "# define model\n",
    "function f(u, p, t)\n",
    "    @unpack beta = p\n",
    "    x = u[1]\n",
    "    dx = -x + beta*tanh(x)\n",
    "    return dx\n",
    "end"
   ]
  },
  {
   "cell_type": "code",
   "execution_count": 19,
   "metadata": {},
   "outputs": [
    {
     "data": {
      "text/plain": [
       "\u001b[36mODEProblem\u001b[0m with uType \u001b[36mFloat64\u001b[0m and tType \u001b[36mFloat64\u001b[0m. In-place: \u001b[36mfalse\u001b[0m\n",
       "timespan: (0.0, 10.0)\n",
       "u0: 0.0"
      ]
     },
     "execution_count": 19,
     "metadata": {},
     "output_type": "execute_result"
    }
   ],
   "source": [
    "# create ODE problem\n",
    "u0 = 0.0\n",
    "tspan = (0.0, 10.0)\n",
    "ode = ODEProblem(f, u0, tspan, param)"
   ]
  },
  {
   "cell_type": "code",
   "execution_count": 20,
   "metadata": {},
   "outputs": [
    {
     "ename": "ErrorException",
     "evalue": "type Float64 has no field beta",
     "output_type": "error",
     "traceback": [
      "type Float64 has no field beta",
      "",
      "Stacktrace:",
      " [1] getproperty(::Float64, ::Symbol) at .\\Base.jl:33",
      " [2] get(::Float64, ::Setfield.PropertyLens{:beta}) at C:\\Users\\trann\\.juliapro\\JuliaPro_v1.4.0-1\\packages\\Setfield\\n9pIa\\src\\lens.jl:100",
      " [3] BifurcationProblem(::ODEProblem{Float64,Tuple{Float64,Float64},false,Float64,DiffEqBase.ODEFunction{false,typeof(f),LinearAlgebra.UniformScaling{Bool},Nothing,Nothing,Nothing,Nothing,Nothing,Nothing,Nothing,Nothing,Nothing,Nothing,Nothing},Base.Iterators.Pairs{Union{},Union{},Tuple{},NamedTuple{(),Tuple{}}},DiffEqBase.StandardODEProblem}, ::Setfield.PropertyLens{:beta}, ::Tuple{Float64,Float64}; kwargs0::Base.Iterators.Pairs{Union{},Union{},Tuple{},NamedTuple{(),Tuple{}}}) at C:\\Users\\trann\\.juliapro\\JuliaPro_v1.4.0-1\\packages\\Bifurcations\\0N2ZV\\src\\diffeq.jl:84",
      " [4] BifurcationProblem(::ODEProblem{Float64,Tuple{Float64,Float64},false,Float64,DiffEqBase.ODEFunction{false,typeof(f),LinearAlgebra.UniformScaling{Bool},Nothing,Nothing,Nothing,Nothing,Nothing,Nothing,Nothing,Nothing,Nothing,Nothing,Nothing},Base.Iterators.Pairs{Union{},Union{},Tuple{},NamedTuple{(),Tuple{}}},DiffEqBase.StandardODEProblem}, ::Setfield.PropertyLens{:beta}, ::Tuple{Float64,Float64}) at C:\\Users\\trann\\.juliapro\\JuliaPro_v1.4.0-1\\packages\\Bifurcations\\0N2ZV\\src\\diffeq.jl:82",
      " [5] top-level scope at In[20]:3"
     ]
    }
   ],
   "source": [
    "# create bifurcation problem\n",
    "param_axis = @lens _.beta\n",
    "prob = BifurcationProblem(ode, param_axis, (0.0, 2.0))"
   ]
  },
  {
   "cell_type": "markdown",
   "metadata": {},
   "source": [
    "### Example 4.3.2"
   ]
  },
  {
   "cell_type": "code",
   "execution_count": 6,
   "metadata": {},
   "outputs": [
    {
     "ename": "ErrorException",
     "evalue": "type Float64 has no field r",
     "output_type": "error",
     "traceback": [
      "type Float64 has no field r",
      "",
      "Stacktrace:",
      " [1] getproperty(::Float64, ::Symbol) at .\\Base.jl:33",
      " [2] get(::Float64, ::Setfield.PropertyLens{:r}) at C:\\Users\\trann\\.juliapro\\JuliaPro_v1.4.0-1\\packages\\Setfield\\n9pIa\\src\\lens.jl:100",
      " [3] BifurcationProblem(::ODEProblem{Float64,Tuple{Float64,Float64},true,Float64,subPF{var\"###ParameterizedDiffEqFunction#284\",var\"###ParameterizedTGradFunction#285\",var\"###ParameterizedJacobianFunction#286\",Nothing,Nothing,ModelingToolkit.ODESystem},Base.Iterators.Pairs{Union{},Union{},Tuple{},NamedTuple{(),Tuple{}}},DiffEqBase.StandardODEProblem}, ::Setfield.PropertyLens{:r}, ::Tuple{Float64,Float64}; kwargs0::Base.Iterators.Pairs{Union{},Union{},Tuple{},NamedTuple{(),Tuple{}}}) at C:\\Users\\trann\\.juliapro\\JuliaPro_v1.4.0-1\\packages\\Bifurcations\\0N2ZV\\src\\diffeq.jl:84",
      " [4] BifurcationProblem(::ODEProblem{Float64,Tuple{Float64,Float64},true,Float64,subPF{var\"###ParameterizedDiffEqFunction#284\",var\"###ParameterizedTGradFunction#285\",var\"###ParameterizedJacobianFunction#286\",Nothing,Nothing,ModelingToolkit.ODESystem},Base.Iterators.Pairs{Union{},Union{},Tuple{},NamedTuple{(),Tuple{}}},DiffEqBase.StandardODEProblem}, ::Setfield.PropertyLens{:r}, ::Tuple{Float64,Float64}) at C:\\Users\\trann\\.juliapro\\JuliaPro_v1.4.0-1\\packages\\Bifurcations\\0N2ZV\\src\\diffeq.jl:82",
      " [5] top-level scope at In[6]:13"
     ]
    }
   ],
   "source": [
    "# define model\n",
    "f = @ode_def subPF begin\n",
    "    dx = r*x - x^3\n",
    "end r \n",
    "\n",
    "# create ODE problem\n",
    "u0 = 0.0\n",
    "tspan = (0.0, 10.0)\n",
    "ode = ODEProblem(f, u0, tspan, 0.0)\n",
    "\n",
    "# create bifurcation problem\n",
    "param_axis = @lens _.r\n",
    "prob = BifurcationProblem(ode, param_axis, (-5.0, 5.0))\n",
    "\n",
    "\n"
   ]
  },
  {
   "cell_type": "code",
   "execution_count": 16,
   "metadata": {},
   "outputs": [
    {
     "data": {
      "image/svg+xml": [
       "<?xml version=\"1.0\" encoding=\"utf-8\"?>\n",
       "<svg xmlns=\"http://www.w3.org/2000/svg\" xmlns:xlink=\"http://www.w3.org/1999/xlink\" width=\"600\" height=\"400\" viewBox=\"0 0 2400 1600\">\n",
       "<defs>\n",
       "  <clipPath id=\"clip2200\">\n",
       "    <rect x=\"0\" y=\"0\" width=\"2400\" height=\"1600\"/>\n",
       "  </clipPath>\n",
       "</defs>\n",
       "<path clip-path=\"url(#clip2200)\" d=\"\n",
       "M0 1600 L2400 1600 L2400 0 L0 0  Z\n",
       "  \" fill=\"#ffffff\" fill-rule=\"evenodd\" fill-opacity=\"1\"/>\n",
       "<defs>\n",
       "  <clipPath id=\"clip2201\">\n",
       "    <rect x=\"480\" y=\"0\" width=\"1681\" height=\"1600\"/>\n",
       "  </clipPath>\n",
       "</defs>\n",
       "<path clip-path=\"url(#clip2200)\" d=\"\n",
       "M257.245 1425.62 L2352.76 1425.62 L2352.76 47.2441 L257.245 47.2441  Z\n",
       "  \" fill=\"#ffffff\" fill-rule=\"evenodd\" fill-opacity=\"1\"/>\n",
       "<defs>\n",
       "  <clipPath id=\"clip2202\">\n",
       "    <rect x=\"257\" y=\"47\" width=\"2097\" height=\"1379\"/>\n",
       "  </clipPath>\n",
       "</defs>\n",
       "<polyline clip-path=\"url(#clip2202)\" style=\"stroke:#000000; stroke-width:2; stroke-opacity:0.1; fill:none\" points=\"\n",
       "  508.379,1425.62 508.379,47.2441 \n",
       "  \"/>\n",
       "<polyline clip-path=\"url(#clip2202)\" style=\"stroke:#000000; stroke-width:2; stroke-opacity:0.1; fill:none\" points=\"\n",
       "  865.155,1425.62 865.155,47.2441 \n",
       "  \"/>\n",
       "<polyline clip-path=\"url(#clip2202)\" style=\"stroke:#000000; stroke-width:2; stroke-opacity:0.1; fill:none\" points=\"\n",
       "  1221.93,1425.62 1221.93,47.2441 \n",
       "  \"/>\n",
       "<polyline clip-path=\"url(#clip2202)\" style=\"stroke:#000000; stroke-width:2; stroke-opacity:0.1; fill:none\" points=\"\n",
       "  1578.71,1425.62 1578.71,47.2441 \n",
       "  \"/>\n",
       "<polyline clip-path=\"url(#clip2202)\" style=\"stroke:#000000; stroke-width:2; stroke-opacity:0.1; fill:none\" points=\"\n",
       "  1935.48,1425.62 1935.48,47.2441 \n",
       "  \"/>\n",
       "<polyline clip-path=\"url(#clip2202)\" style=\"stroke:#000000; stroke-width:2; stroke-opacity:0.1; fill:none\" points=\"\n",
       "  2292.26,1425.62 2292.26,47.2441 \n",
       "  \"/>\n",
       "<polyline clip-path=\"url(#clip2202)\" style=\"stroke:#000000; stroke-width:2; stroke-opacity:0.1; fill:none\" points=\"\n",
       "  257.245,1241.39 2352.76,1241.39 \n",
       "  \"/>\n",
       "<polyline clip-path=\"url(#clip2202)\" style=\"stroke:#000000; stroke-width:2; stroke-opacity:0.1; fill:none\" points=\"\n",
       "  257.245,847.668 2352.76,847.668 \n",
       "  \"/>\n",
       "<polyline clip-path=\"url(#clip2202)\" style=\"stroke:#000000; stroke-width:2; stroke-opacity:0.1; fill:none\" points=\"\n",
       "  257.245,453.945 2352.76,453.945 \n",
       "  \"/>\n",
       "<polyline clip-path=\"url(#clip2202)\" style=\"stroke:#000000; stroke-width:2; stroke-opacity:0.1; fill:none\" points=\"\n",
       "  257.245,60.2231 2352.76,60.2231 \n",
       "  \"/>\n",
       "<polyline clip-path=\"url(#clip2200)\" style=\"stroke:#000000; stroke-width:4; stroke-opacity:1; fill:none\" points=\"\n",
       "  257.245,1425.62 2352.76,1425.62 \n",
       "  \"/>\n",
       "<polyline clip-path=\"url(#clip2200)\" style=\"stroke:#000000; stroke-width:4; stroke-opacity:1; fill:none\" points=\"\n",
       "  257.245,1425.62 257.245,47.2441 \n",
       "  \"/>\n",
       "<polyline clip-path=\"url(#clip2200)\" style=\"stroke:#000000; stroke-width:4; stroke-opacity:1; fill:none\" points=\"\n",
       "  508.379,1425.62 508.379,1409.08 \n",
       "  \"/>\n",
       "<polyline clip-path=\"url(#clip2200)\" style=\"stroke:#000000; stroke-width:4; stroke-opacity:1; fill:none\" points=\"\n",
       "  865.155,1425.62 865.155,1409.08 \n",
       "  \"/>\n",
       "<polyline clip-path=\"url(#clip2200)\" style=\"stroke:#000000; stroke-width:4; stroke-opacity:1; fill:none\" points=\"\n",
       "  1221.93,1425.62 1221.93,1409.08 \n",
       "  \"/>\n",
       "<polyline clip-path=\"url(#clip2200)\" style=\"stroke:#000000; stroke-width:4; stroke-opacity:1; fill:none\" points=\"\n",
       "  1578.71,1425.62 1578.71,1409.08 \n",
       "  \"/>\n",
       "<polyline clip-path=\"url(#clip2200)\" style=\"stroke:#000000; stroke-width:4; stroke-opacity:1; fill:none\" points=\"\n",
       "  1935.48,1425.62 1935.48,1409.08 \n",
       "  \"/>\n",
       "<polyline clip-path=\"url(#clip2200)\" style=\"stroke:#000000; stroke-width:4; stroke-opacity:1; fill:none\" points=\"\n",
       "  2292.26,1425.62 2292.26,1409.08 \n",
       "  \"/>\n",
       "<polyline clip-path=\"url(#clip2200)\" style=\"stroke:#000000; stroke-width:4; stroke-opacity:1; fill:none\" points=\"\n",
       "  257.245,1241.39 282.391,1241.39 \n",
       "  \"/>\n",
       "<polyline clip-path=\"url(#clip2200)\" style=\"stroke:#000000; stroke-width:4; stroke-opacity:1; fill:none\" points=\"\n",
       "  257.245,847.668 282.391,847.668 \n",
       "  \"/>\n",
       "<polyline clip-path=\"url(#clip2200)\" style=\"stroke:#000000; stroke-width:4; stroke-opacity:1; fill:none\" points=\"\n",
       "  257.245,453.945 282.391,453.945 \n",
       "  \"/>\n",
       "<polyline clip-path=\"url(#clip2200)\" style=\"stroke:#000000; stroke-width:4; stroke-opacity:1; fill:none\" points=\"\n",
       "  257.245,60.2231 282.391,60.2231 \n",
       "  \"/>\n",
       "<g clip-path=\"url(#clip2200)\">\n",
       "<text style=\"fill:#000000; fill-opacity:1; font-family:Arial,Helvetica Neue,Helvetica,sans-serif; font-size:48px; text-anchor:middle;\" transform=\"rotate(0, 508.379, 1479.62)\" x=\"508.379\" y=\"1479.62\">-300</text>\n",
       "</g>\n",
       "<g clip-path=\"url(#clip2200)\">\n",
       "<text style=\"fill:#000000; fill-opacity:1; font-family:Arial,Helvetica Neue,Helvetica,sans-serif; font-size:48px; text-anchor:middle;\" transform=\"rotate(0, 865.155, 1479.62)\" x=\"865.155\" y=\"1479.62\">-200</text>\n",
       "</g>\n",
       "<g clip-path=\"url(#clip2200)\">\n",
       "<text style=\"fill:#000000; fill-opacity:1; font-family:Arial,Helvetica Neue,Helvetica,sans-serif; font-size:48px; text-anchor:middle;\" transform=\"rotate(0, 1221.93, 1479.62)\" x=\"1221.93\" y=\"1479.62\">-100</text>\n",
       "</g>\n",
       "<g clip-path=\"url(#clip2200)\">\n",
       "<text style=\"fill:#000000; fill-opacity:1; font-family:Arial,Helvetica Neue,Helvetica,sans-serif; font-size:48px; text-anchor:middle;\" transform=\"rotate(0, 1578.71, 1479.62)\" x=\"1578.71\" y=\"1479.62\">0</text>\n",
       "</g>\n",
       "<g clip-path=\"url(#clip2200)\">\n",
       "<text style=\"fill:#000000; fill-opacity:1; font-family:Arial,Helvetica Neue,Helvetica,sans-serif; font-size:48px; text-anchor:middle;\" transform=\"rotate(0, 1935.48, 1479.62)\" x=\"1935.48\" y=\"1479.62\">100</text>\n",
       "</g>\n",
       "<g clip-path=\"url(#clip2200)\">\n",
       "<text style=\"fill:#000000; fill-opacity:1; font-family:Arial,Helvetica Neue,Helvetica,sans-serif; font-size:48px; text-anchor:middle;\" transform=\"rotate(0, 2292.26, 1479.62)\" x=\"2292.26\" y=\"1479.62\">200</text>\n",
       "</g>\n",
       "<g clip-path=\"url(#clip2200)\">\n",
       "<text style=\"fill:#000000; fill-opacity:1; font-family:Arial,Helvetica Neue,Helvetica,sans-serif; font-size:48px; text-anchor:end;\" transform=\"rotate(0, 233.245, 1258.89)\" x=\"233.245\" y=\"1258.89\">-200</text>\n",
       "</g>\n",
       "<g clip-path=\"url(#clip2200)\">\n",
       "<text style=\"fill:#000000; fill-opacity:1; font-family:Arial,Helvetica Neue,Helvetica,sans-serif; font-size:48px; text-anchor:end;\" transform=\"rotate(0, 233.245, 865.168)\" x=\"233.245\" y=\"865.168\">-100</text>\n",
       "</g>\n",
       "<g clip-path=\"url(#clip2200)\">\n",
       "<text style=\"fill:#000000; fill-opacity:1; font-family:Arial,Helvetica Neue,Helvetica,sans-serif; font-size:48px; text-anchor:end;\" transform=\"rotate(0, 233.245, 471.445)\" x=\"233.245\" y=\"471.445\">0</text>\n",
       "</g>\n",
       "<g clip-path=\"url(#clip2200)\">\n",
       "<text style=\"fill:#000000; fill-opacity:1; font-family:Arial,Helvetica Neue,Helvetica,sans-serif; font-size:48px; text-anchor:end;\" transform=\"rotate(0, 233.245, 77.7231)\" x=\"233.245\" y=\"77.7231\">100</text>\n",
       "</g>\n",
       "<g clip-path=\"url(#clip2200)\">\n",
       "<text style=\"fill:#000000; fill-opacity:1; font-family:Arial,Helvetica Neue,Helvetica,sans-serif; font-size:66px; text-anchor:middle;\" transform=\"rotate(0, 1305, 1559.48)\" x=\"1305\" y=\"1559.48\">i</text>\n",
       "</g>\n",
       "<g clip-path=\"url(#clip2200)\">\n",
       "<text style=\"fill:#000000; fill-opacity:1; font-family:Arial,Helvetica Neue,Helvetica,sans-serif; font-size:66px; text-anchor:middle;\" transform=\"rotate(-90, 89.2861, 736.431)\" x=\"89.2861\" y=\"736.431\">u1</text>\n",
       "</g>\n",
       "<polyline clip-path=\"url(#clip2202)\" style=\"stroke:#009af9; stroke-width:4; stroke-opacity:1; fill:none\" points=\"\n",
       "  1709.89,580.631 1709.84,576.324 \n",
       "  \"/>\n",
       "<line clip-path=\"url(#clip2202)\" x1=\"1709.89\" y1=\"580.631\" x2=\"1709.89\" y2=\"560.631\" style=\"stroke:#3da44d; stroke-width:3.2; stroke-opacity:1\"/>\n",
       "<line clip-path=\"url(#clip2202)\" x1=\"1709.89\" y1=\"580.631\" x2=\"1689.89\" y2=\"580.631\" style=\"stroke:#3da44d; stroke-width:3.2; stroke-opacity:1\"/>\n",
       "<line clip-path=\"url(#clip2202)\" x1=\"1709.89\" y1=\"580.631\" x2=\"1709.89\" y2=\"600.631\" style=\"stroke:#3da44d; stroke-width:3.2; stroke-opacity:1\"/>\n",
       "<line clip-path=\"url(#clip2202)\" x1=\"1709.89\" y1=\"580.631\" x2=\"1729.89\" y2=\"580.631\" style=\"stroke:#3da44d; stroke-width:3.2; stroke-opacity:1\"/>\n",
       "<line clip-path=\"url(#clip2202)\" x1=\"1709.84\" y1=\"576.324\" x2=\"1709.84\" y2=\"556.324\" style=\"stroke:#3da44d; stroke-width:3.2; stroke-opacity:1\"/>\n",
       "<line clip-path=\"url(#clip2202)\" x1=\"1709.84\" y1=\"576.324\" x2=\"1689.84\" y2=\"576.324\" style=\"stroke:#3da44d; stroke-width:3.2; stroke-opacity:1\"/>\n",
       "<line clip-path=\"url(#clip2202)\" x1=\"1709.84\" y1=\"576.324\" x2=\"1709.84\" y2=\"596.324\" style=\"stroke:#3da44d; stroke-width:3.2; stroke-opacity:1\"/>\n",
       "<line clip-path=\"url(#clip2202)\" x1=\"1709.84\" y1=\"576.324\" x2=\"1729.84\" y2=\"576.324\" style=\"stroke:#3da44d; stroke-width:3.2; stroke-opacity:1\"/>\n",
       "<polyline clip-path=\"url(#clip2202)\" style=\"stroke:#e26f46; stroke-width:4; stroke-opacity:1; fill:none\" points=\"\n",
       "  827.78,393.47 827.907,391.651 \n",
       "  \"/>\n",
       "<line clip-path=\"url(#clip2202)\" x1=\"827.78\" y1=\"393.47\" x2=\"827.78\" y2=\"373.47\" style=\"stroke:#3da44d; stroke-width:3.2; stroke-opacity:1\"/>\n",
       "<line clip-path=\"url(#clip2202)\" x1=\"827.78\" y1=\"393.47\" x2=\"807.78\" y2=\"393.47\" style=\"stroke:#3da44d; stroke-width:3.2; stroke-opacity:1\"/>\n",
       "<line clip-path=\"url(#clip2202)\" x1=\"827.78\" y1=\"393.47\" x2=\"827.78\" y2=\"413.47\" style=\"stroke:#3da44d; stroke-width:3.2; stroke-opacity:1\"/>\n",
       "<line clip-path=\"url(#clip2202)\" x1=\"827.78\" y1=\"393.47\" x2=\"847.78\" y2=\"393.47\" style=\"stroke:#3da44d; stroke-width:3.2; stroke-opacity:1\"/>\n",
       "<line clip-path=\"url(#clip2202)\" x1=\"827.907\" y1=\"391.651\" x2=\"827.907\" y2=\"371.651\" style=\"stroke:#3da44d; stroke-width:3.2; stroke-opacity:1\"/>\n",
       "<line clip-path=\"url(#clip2202)\" x1=\"827.907\" y1=\"391.651\" x2=\"807.907\" y2=\"391.651\" style=\"stroke:#3da44d; stroke-width:3.2; stroke-opacity:1\"/>\n",
       "<line clip-path=\"url(#clip2202)\" x1=\"827.907\" y1=\"391.651\" x2=\"827.907\" y2=\"411.651\" style=\"stroke:#3da44d; stroke-width:3.2; stroke-opacity:1\"/>\n",
       "<line clip-path=\"url(#clip2202)\" x1=\"827.907\" y1=\"391.651\" x2=\"847.907\" y2=\"391.651\" style=\"stroke:#3da44d; stroke-width:3.2; stroke-opacity:1\"/>\n",
       "<polyline clip-path=\"url(#clip2202)\" style=\"stroke:#009af9; stroke-width:4; stroke-opacity:1; fill:none\" points=\"\n",
       "  793.8,1123.27 793.829,1123.26 793.888,1123.23 794.004,1123.16 794.237,1123.03 794.703,1122.78 795.635,1122.26 797.5,1121.23 801.228,1119.17 808.686,1115.06 \n",
       "  823.601,1106.83 853.431,1090.37 913.09,1057.45 1032.41,991.614 1271.04,859.925 1509.23,727.766 1594.12,678.894 1640.89,649.828 1665.21,633.005 1680.41,621.139 \n",
       "  1690.96,611.655 1698.44,603.662 1703.63,596.763 1707.04,590.727 1709.03,585.393 1709.89,580.631 \n",
       "  \"/>\n",
       "<polyline clip-path=\"url(#clip2202)\" style=\"stroke:#e26f46; stroke-width:4; stroke-opacity:1; fill:none\" stroke-dasharray=\"2, 4\" points=\"\n",
       "  1709.89,580.631 1709.84,576.324 1709.03,572.366 1707.54,568.66 1705.42,565.127 1702.65,561.701 1699.2,558.33 1695,554.974 1689.96,551.605 1683.98,548.198 \n",
       "  1676.92,544.734 1668.66,541.2 1659.02,537.582 1647.83,533.87 1634.89,530.052 1619.95,526.118 1602.77,522.055 1583.03,517.846 1560.39,513.474 1534.43,508.911 \n",
       "  1504.65,504.124 1470.42,499.061 1430.89,493.648 1384.84,487.763 1330.29,481.19 1263.28,473.461 1172.28,463.145 1081.35,452.46 994.014,440.994 941.447,432.836 \n",
       "  906.356,426.332 880.957,420.637 862.261,415.457 848.729,410.682 839.333,406.279 833.269,402.273 829.803,398.728 828.192,395.688 827.78,393.47 \n",
       "  \"/>\n",
       "<polyline clip-path=\"url(#clip2202)\" style=\"stroke:#009af9; stroke-width:4; stroke-opacity:1; fill:none\" points=\"\n",
       "  827.78,393.47 827.907,391.651 828.412,389.905 829.322,388.089 830.758,386.099 832.953,383.814 836.012,381.302 839.989,378.62 845.068,375.724 851.448,372.58 \n",
       "  859.361,369.155 869.072,365.412 880.885,361.31 895.15,356.801 912.274,351.828 932.738,346.322 957.119,340.196 986.125,333.337 1020.65,325.597 1061.85,316.779 \n",
       "  1111.3,306.607 1171.21,294.684 1244.84,280.413 1337.36,262.845 1457.6,240.351 1622.21,209.847 1867.67,164.594 2293.45,86.2547 \n",
       "  \"/>\n",
       "<polyline clip-path=\"url(#clip2202)\" style=\"stroke:#009af9; stroke-width:4; stroke-opacity:1; fill:none\" points=\"\n",
       "  793.8,1123.27 793.771,1123.29 793.713,1123.32 793.596,1123.39 793.363,1123.51 792.897,1123.77 791.965,1124.29 790.101,1125.31 786.372,1127.37 778.914,1131.49 \n",
       "  763.999,1139.72 734.17,1156.18 674.51,1189.1 555.191,1254.93 316.552,1386.61 \n",
       "  \"/>\n",
       "</svg>\n"
      ]
     },
     "execution_count": 16,
     "metadata": {},
     "output_type": "execute_result"
    }
   ],
   "source": [
    "using StaticArrays: SVector\n",
    "\n",
    "calcium_param = (\n",
    "    vl = -60,\n",
    "    vca = 120,\n",
    "    i = -220.0,\n",
    "    gl = 2,\n",
    "    gca = 4,\n",
    "    c = 20,\n",
    "    v1 = -1.2,\n",
    "    v2 = 18,\n",
    ")\n",
    "\n",
    "\n",
    "function f(u, p, t)\n",
    "    @unpack vl, vca, i, gl, gca, c, v2, v1 = p\n",
    "    v = u[1]\n",
    "    w = u[2]\n",
    "    dv = (i + gl * (vl - v) - gca * 0.5 * (1 + tanh((v-v1)/v2)) * (v-vca)) / c\n",
    "    dw = v-w\n",
    "    return SVector(dv, dw)\n",
    "end\n",
    "\n",
    "u0 = SVector(-170.0, -170.0)\n",
    "tspan = (0.0, 30.0)  # ignored by Bifurcations.jl\n",
    "ode = ODEProblem(f, u0, tspan, calcium_param)\n",
    "\n",
    "param_axis = @lens _.i\n",
    "prob = BifurcationProblem(ode, param_axis, (-300.0, 100.0))\n",
    "\n",
    "solver = init(prob)\n",
    "solve!(solver)\n",
    "sol = solver.sol\n",
    "\n",
    "plt = plot(sol)"
   ]
  },
  {
   "cell_type": "code",
   "execution_count": null,
   "metadata": {},
   "outputs": [],
   "source": []
  }
 ],
 "metadata": {
  "kernelspec": {
   "display_name": "Julia 1.4.0",
   "language": "julia",
   "name": "julia-1.4"
  },
  "language_info": {
   "file_extension": ".jl",
   "mimetype": "application/julia",
   "name": "julia",
   "version": "1.4.0"
  }
 },
 "nbformat": 4,
 "nbformat_minor": 2
}
