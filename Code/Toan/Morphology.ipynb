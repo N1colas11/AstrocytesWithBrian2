{
 "cells": [
  {
   "cell_type": "code",
   "execution_count": 7,
   "metadata": {},
   "outputs": [],
   "source": [
    "import numpy as np\n",
    "import numpy. random as rd\n",
    "import matplotlib.pyplot as plt"
   ]
  },
  {
   "cell_type": "code",
   "execution_count": 8,
   "metadata": {},
   "outputs": [],
   "source": [
    "def branchOut(id_root, rad_root, theta_root, R_root, config, tier, file):\n",
    "    #This funciton recursively generate children nodes (branches) from a given root node\n",
    "    if tier < len(config):\n",
    "        global id\n",
    "        N_process = rd.randint(*config[tier])\n",
    "        R = R_root / N_process\n",
    "        for i in range(N_process):\n",
    "            id += 1\n",
    "            theta = rd.uniform(theta_root - np.pi/2, theta_root + np.pi/2)\n",
    "            l = R * 200 #replace with formular for l in Maurizio's note\n",
    "            rad_side_angle = abs(theta - theta_root)\n",
    "            rad_op_angle = np.pi - (rad_side_angle + np.arcsin(np.sin(rad_side_angle) * l / rad_root))\n",
    "            rad = np.sin(rad_side_angle) * l / np.sin(rad_op_angle)\n",
    "            rho = rd.uniform(0.1, 0.14)\n",
    "\n",
    "            file.write(' '.join(list(map(str, [id, round(rad*np.cos(theta), 5), round(rad*np.sin(theta), 5), 0,\n",
    "                                               round(R, 5), round(R*np.sqrt(rho), 5), id_root, '\\n']))))\n",
    "            branchOut(id, rad, theta, R, config, tier + 1, file)"
   ]
  },
  {
   "cell_type": "code",
   "execution_count": 9,
   "metadata": {},
   "outputs": [],
   "source": [
    "def morphGen(config):\n",
    "    #This function generates random morphology of astrocyte\n",
    "    #constrained by the range of number of outgoing processes at each tier\n",
    "    #Input: config - a list of tuple in which each defines the above-mentioned range\n",
    "    #Example: [(3, 5), (2, 3)] -> This confines the number of primary branches to [3, 5)\n",
    "    #and the number of secondary branches to [2, 3) (essentially fixing it to 2)\n",
    "    #Output: swc-like format file\n",
    "    #Note: a global variable named id must be declared and set to 1 for the function to work\n",
    "    \n",
    "    global id\n",
    "    \n",
    "    file = open('morph.swc', 'w')\n",
    "\n",
    "    R_soma = 8  #(umeter) average radius of a soma\n",
    "    r_soma = round(R_soma * rd.uniform(0.1, 0.14), 5)   \n",
    "    \n",
    "    file.write(' '.join(['1', '0', '0', '0', str(R_soma), str(r_soma), \"-1\\n\"]))\n",
    "    \n",
    "    N_neurite_tree = rd.randint(*config[0])\n",
    "    branching_zone = 2*np.pi / N_neurite_tree\n",
    "    \n",
    "    for i in range(N_neurite_tree):\n",
    "        id += 1\n",
    "        R = R_soma / 10\n",
    "        r = round(R * rd.uniform(0.1, 0.14), 5)\n",
    "        branching_length = R * 20 #replace with formula for l in Maurizio's note\n",
    "        branching_angle = rd.uniform(i*branching_zone, (i+1)*branching_zone)\n",
    "        x = round(branching_length * np.cos(branching_angle), 5)\n",
    "        y = round(branching_length * np.sin(branching_angle), 5)\n",
    "        z = 0\n",
    "        file.write(' '.join(list(map(str, [id, x, y, z, R, r, 1, '\\n']))))\n",
    "        branchOut(id, branching_length, branching_angle, R, config, 1, file)\n",
    "    file.close()"
   ]
  },
  {
   "cell_type": "code",
   "execution_count": 4,
   "metadata": {},
   "outputs": [
    {
     "name": "stderr",
     "output_type": "stream",
     "text": [
      "C:\\Users\\trann\\AppData\\Local\\Continuum\\anaconda3\\lib\\site-packages\\ipykernel_launcher.py:12: RuntimeWarning: invalid value encountered in arcsin\n",
      "  if sys.path[0] == '':\n"
     ]
    }
   ],
   "source": [
    "id = 1\n",
    "morphGen([(2, 6), (1, 5), (1, 4), (1, 3)])"
   ]
  },
  {
   "cell_type": "code",
   "execution_count": 5,
   "metadata": {},
   "outputs": [],
   "source": [
    "def morphShow_mod(fname):\n",
    "    file = open(fname, 'r')\n",
    "    data = file.readlines()\n",
    "            \n",
    "    for i in range(0, len(data) - 1):\n",
    "        node = list(map(float, data[i].split()))\n",
    "        if node[0] != 1:\n",
    "            parent_node = list(map(float, data[int(node[6]) - 1].split()))\n",
    "            \n",
    "        if node[0] == 1:\n",
    "            soma = plt.Circle((node[1], node[2]), radius=node[4], fc='y', zorder=1000)\n",
    "            plt.gca().add_patch(soma)\n",
    "        else:\n",
    "            segment = plt.Line2D((node[1], parent_node[1]), (node[2], parent_node[2]), lw=node[4] * 10)\n",
    "            plt.gca().add_line(segment)\n",
    "\n",
    "    plt.axis('equal')       \n",
    "    plt.show()\n",
    "    file.close()"
   ]
  },
  {
   "cell_type": "code",
   "execution_count": 6,
   "metadata": {},
   "outputs": [
    {
     "data": {
      "image/png": "[encoded data removed]",
      "text/plain": [
       "<Figure size 432x288 with 1 Axes>"
      ]
     },
     "metadata": {
      "needs_background": "light"
     },
     "output_type": "display_data"
    }
   ],
   "source": [
    "morphShow_mod('morph.swc')"
   ]
  },
  {
   "cell_type": "code",
   "execution_count": null,
   "metadata": {},
   "outputs": [],
   "source": []
  }
 ],
 "metadata": {
  "kernelspec": {
   "display_name": "Python 3",
   "language": "python",
   "name": "python3"
  },
  "language_info": {
   "codemirror_mode": {
    "name": "ipython",
    "version": 3
   },
   "file_extension": ".py",
   "mimetype": "text/x-python",
   "name": "python",
   "nbconvert_exporter": "python",
   "pygments_lexer": "ipython3",
   "version": "3.7.4"
  }
 },
 "nbformat": 4,
 "nbformat_minor": 2
}
